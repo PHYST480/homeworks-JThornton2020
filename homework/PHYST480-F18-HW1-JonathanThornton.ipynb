{
 "cells": [
  {
   "cell_type": "markdown",
   "metadata": {},
   "source": [
    "# Homework 1: Problems\n",
    "### PHYS T480/580, Fall 2018\n",
    "https://github.com/gtrichards/PHYS_T480_F18/\n",
    "\n",
    "\n",
    "## Problem 1\n",
    "\n",
    "Practice your git and github skills by submitting this homework via github:\n",
    "\n",
    "* Clone the class github repository to your computer, the one at https://github.com/gtrichards/PHYS_T480_F18/  (should already have done this).\n",
    "* Click the Github Classroom link you received via the mailing list. This will create a private github repository through which you'll be submitting your homeworks. Clone that repository to your computer.\n",
    "* Copy this notebook from the class github repository to your private homework submission repository. IMPORTANT: rename it to `<filename>-FirstLast.ipynb` once you copy it, where `<filename>` is the existing filename and `FirstLast` are your first and last name. Example: `PHYST480-F18-HW1-GordonRichards.ipynb`.\n",
    "* Solve problems #2, #3, and #4 by filling in the missing cells in the copied notebook.\n",
    "* Commit the notebook to your repository, and `git push` it upstream.\n",
    "\n",
    "\n",
    "## Problem 2\n",
    "Generate a sample of 10,000 data values drawn from N($\\mu$=1.0, $\\sigma$=0.2) and\n",
    "draw a pretty histogram, with the bin size determined using the Freedman-Diaconis\n",
    "rule. Overplot the true distribution. \n",
    "\n",
    "## Problem 3\n",
    "Repeat the problem 2, but now add to the Gaussian sample (concatenate arrays with `np.concatenate()`) \n",
    "another sample of 10,000 data values drawn from a `cauchy` distribution with\n",
    "$\\mu=2.0$ and $\\gamma=0.5$. Do it twice: once with the bin size determined \n",
    "using the Freedman-Diaconis rule and once using the Scott's rule. Comment. \n",
    "\n",
    "\n",
    "## Problem 4\n",
    "Follow the example from the Central Limit Theorem cells in BasicStats2.ipynb and simulate the distribution of 1,000,000 $\\mathscr{N}(0,1)$ draws of $\\chi^2$ for `N=2` and `N=5`.  Overplot the theoretical pdf (it will help to use `scipy.special.gamma()`)."
   ]
  },
  {
   "cell_type": "markdown",
   "metadata": {},
   "source": [
    "### Some useful definitions and functions"
   ]
  },
  {
   "cell_type": "code",
   "execution_count": 12,
   "metadata": {},
   "outputs": [],
   "source": [
    "import numpy as np\n",
    "from matplotlib import pyplot as plt\n",
    "from scipy import optimize\n",
    "from scipy.stats import cauchy, norm, chi2\n",
    "from astroML.plotting import setup_text_plots\n",
    "from astroML.stats import sigmaG\n",
    "from astroML.plotting import hist as fancyhist\n",
    "setup_text_plots(fontsize=14, usetex=False)\n",
    "%matplotlib inline"
   ]
  },
  {
   "cell_type": "markdown",
   "metadata": {},
   "source": [
    "This astroML function adjusts matplotlib settings for a uniform feel in the \n",
    "textbook. Note that with `usetex=True`, fonts are rendered with $\\LaTeX$. This \n",
    "may result in an error if $\\LaTeX$ is not installed on your system.  In that \n",
    "case, you can set usetex to `False`."
   ]
  },
  {
   "cell_type": "code",
   "execution_count": 7,
   "metadata": {},
   "outputs": [
    {
     "name": "stderr",
     "output_type": "stream",
     "text": [
      "/home/jonathan/anaconda3/lib/python3.6/site-packages/matplotlib/axes/_axes.py:6462: UserWarning: The 'normed' kwarg is deprecated, and has been replaced by the 'density' kwarg.\n",
      "  warnings.warn(\"The 'normed' kwarg is deprecated, and has been \"\n"
     ]
    },
    {
     "data": {
      "text/plain": [
       "(array([0.00402908, 0.        , 0.00402908, 0.        , 0.00402908,\n",
       "        0.02417446, 0.02820353, 0.04431984, 0.04834892, 0.10475599,\n",
       "        0.05237799, 0.14907583, 0.16519213, 0.23368643, 0.25383181,\n",
       "        0.38679134, 0.52377993, 0.64465223, 0.75746637, 0.87028051,\n",
       "        0.95892019, 1.05561802, 1.40211859, 1.49881643, 1.47867104,\n",
       "        1.67609579, 1.82517161, 1.89366591, 2.00245098, 2.17570126,\n",
       "        2.05482897, 2.0669162 , 1.81308439, 1.84934607, 1.59954334,\n",
       "        1.56328165, 1.48270012, 1.33362429, 1.08382155, 0.9226585 ,\n",
       "        0.82596066, 0.7010593 , 0.60436146, 0.49960548, 0.41902395,\n",
       "        0.29412258, 0.21354105, 0.18130844, 0.14504675, 0.11281414,\n",
       "        0.0684943 , 0.08058153, 0.02820353, 0.03626169, 0.01611631,\n",
       "        0.00805815, 0.01208723, 0.00402908, 0.        , 0.        ,\n",
       "        0.00521454]),\n",
       " array([0.25197987, 0.27679946, 0.30161904, 0.32643862, 0.35125821,\n",
       "        0.37607779, 0.40089738, 0.42571696, 0.45053654, 0.47535613,\n",
       "        0.50017571, 0.5249953 , 0.54981488, 0.57463446, 0.59945405,\n",
       "        0.62427363, 0.64909321, 0.6739128 , 0.69873238, 0.72355197,\n",
       "        0.74837155, 0.77319113, 0.79801072, 0.8228303 , 0.84764989,\n",
       "        0.87246947, 0.89728905, 0.92210864, 0.94692822, 0.97174781,\n",
       "        0.99656739, 1.02138697, 1.04620656, 1.07102614, 1.09584572,\n",
       "        1.12066531, 1.14548489, 1.17030448, 1.19512406, 1.21994364,\n",
       "        1.24476323, 1.26958281, 1.2944024 , 1.31922198, 1.34404156,\n",
       "        1.36886115, 1.39368073, 1.41850032, 1.4433199 , 1.46813948,\n",
       "        1.49295907, 1.51777865, 1.54259823, 1.56741782, 1.5922374 ,\n",
       "        1.61705699, 1.64187657, 1.66669615, 1.69151574, 1.71633532,\n",
       "        1.74115491, 1.76033204]),\n",
       " <a list of 1 Patch objects>)"
      ]
     },
     "execution_count": 7,
     "metadata": {},
     "output_type": "execute_result"
    },
    {
     "data": {
      "image/png": "[encoded data removed]",
      "text/plain": [
       "<Figure size 432x288 with 1 Axes>"
      ]
     },
     "metadata": {},
     "output_type": "display_data"
    }
   ],
   "source": [
    "# create the normal distribution and set it up so I can use it with rvs\n",
    "N=10000\n",
    "mu=1.0\n",
    "sigma=0.2\n",
    "dist = norm(mu, sigma)\n",
    "x = dist.rvs(N)\n",
    "\n",
    "# find sigmaG\n",
    "q25,q75 = np.percentile(x,[25,75]) \n",
    "sigmaG = 0.7413*(q75-q25) \n",
    "\n",
    "# find the bin size\n",
    "binsize = 2.7*sigmaG/(N**(1./3.))\n",
    "bins = np.append(np.arange(start=x.min(),stop=x.max(),step=binsize),x.max())\n",
    "\n",
    "# make the histogram\n",
    "plt.hist(x,bins=bins,histtype=\"step\",normed=True) "
   ]
  },
  {
   "cell_type": "code",
   "execution_count": 9,
   "metadata": {},
   "outputs": [
    {
     "name": "stderr",
     "output_type": "stream",
     "text": [
      "/home/jonathan/anaconda3/lib/python3.6/site-packages/matplotlib/axes/_axes.py:6462: UserWarning: The 'normed' kwarg is deprecated, and has been replaced by the 'density' kwarg.\n",
      "  warnings.warn(\"The 'normed' kwarg is deprecated, and has been \"\n"
     ]
    },
    {
     "data": {
      "image/png": "[encoded data removed]",
      "text/plain": [
       "<Figure size 432x288 with 1 Axes>"
      ]
     },
     "metadata": {},
     "output_type": "display_data"
    }
   ],
   "source": [
    "# First I create a Cauchy distribution (N=10000, mu=2.0 , gamma=0.5)\n",
    "np.random.seed(0)\n",
    "N = 10000\n",
    "mu = 2.0\n",
    "gamma = 0.5\n",
    "dist = cauchy(mu, gamma)\n",
    "\n",
    "# Then I concatenate the Gaussian and Cauchy distributions\n",
    "x2 = np.concatenate([x,dist.rvs(N)])\n",
    "np.random.shuffle(x2)\n",
    "x2 = x2[x2 > -5]\n",
    "x2 = x2[x2 < 25]\n",
    "\n",
    "# Third I use Freedman-Diaconis again\n",
    "q25,q75 = np.percentile(x2,[25,75])\n",
    "sigmaG = 0.7413*(q75-q25)\n",
    "\n",
    "binsize = 2.7*sigmaG/(N**(1./3.))\n",
    "bins = np.append(np.arange(start=x2.min(),stop=x2.max(),step=binsize),x2.max())\n",
    "\n",
    "plt.hist(x2,bins=bins,histtype=\"step\",normed=True,label=\"Freedman\") \n",
    "\n",
    "# Fourth I use Scott's rule\n",
    "binsize = 3.5*sigma/(N**(1./3.))\n",
    "bins = np.append(np.arange(start=x2.min(),stop=x2.max(),step=binsize),x2.max())\n",
    "\n",
    "plt.hist(x2,bins=bins,histtype=\"step\",normed=True,label=\"Scott\")\n",
    "\n",
    "plt.legend(loc='best')\n",
    "plt.show()"
   ]
  },
  {
   "cell_type": "code",
   "execution_count": 35,
   "metadata": {},
   "outputs": [
    {
     "name": "stderr",
     "output_type": "stream",
     "text": [
      "/home/jonathan/anaconda3/lib/python3.6/site-packages/matplotlib/axes/_axes.py:6462: UserWarning: The 'normed' kwarg is deprecated, and has been replaced by the 'density' kwarg.\n",
      "  warnings.warn(\"The 'normed' kwarg is deprecated, and has been \"\n"
     ]
    },
    {
     "data": {
      "text/plain": [
       "<function matplotlib.pyplot.show(*args, **kw)>"
      ]
     },
     "execution_count": 35,
     "metadata": {},
     "output_type": "execute_result"
    },
    {
     "data": {
      "image/png": "[encoded data removed]",
      "text/plain": [
       "<Figure size 432x288 with 1 Axes>"
      ]
     },
     "metadata": {},
     "output_type": "display_data"
    }
   ],
   "source": [
    "N = 2 # Number of draws\n",
    "mu = 0.5 # Location\n",
    "sigma = 1./np.sqrt(12)/np.sqrt(N)  # Scale factor\n",
    "\n",
    "u = np.linspace(0,1,1000) # Array to sample the space\n",
    "dist = chi2(5,loc=1.0,scale=0.2,) # Complete\n",
    "plt.plot(u,dist.pdf(u)) # Complete\n",
    "\n",
    "x = np.random.random(N) # N random draws\n",
    "plt.plot(x, 0*x, '|', markersize=50)\n",
    "plt.xlabel('x')\n",
    "plt.ylabel('pdf')\n",
    "\n",
    "# Add a histogram that is the mean of 1,000,000 draws\n",
    "yy = []\n",
    "for i in np.arange(1000000):\n",
    "    xx = chi2.rvs(5,size=N,loc=1.0,scale=0.2) \n",
    "    yy.append(xx.mean()) \n",
    "\n",
    "plt.hist(yy,bins=100,histtype='stepfilled', alpha=0.5, normed=True,label='N=2')\n",
    "\n",
    "N = 5\n",
    "yy=[]\n",
    "for i in np.arange(1000000):\n",
    "    xx = chi2.rvs(5, size=N,loc=1.0,scale=0.2)\n",
    "    yy.append(xx.mean()) # Append average of those random draws to the end of the array\n",
    "\n",
    "plt.hist(yy,bins=100,histtype='stepfilled', alpha=0.5, normed=True,label='N=5')\n",
    "\n",
    "# dist1 = 1./\n",
    "# dist2 = \n",
    "\n",
    "# plt.plot(u, dist2.pdf(u), c='black',label='N = 5', ls='-.')\n",
    "# plt.plot(u, dist1.pdf(u), c='black', label='N = 2',ls='-')\n",
    "\n",
    "\n",
    "plt.legend(loc='best')\n",
    "plt.show"
   ]
  },
  {
   "cell_type": "code",
   "execution_count": null,
   "metadata": {},
   "outputs": [],
   "source": []
  }
 ],
 "metadata": {
  "anaconda-cloud": {},
  "kernelspec": {
   "display_name": "Python 3",
   "language": "python",
   "name": "python3"
  },
  "language_info": {
   "codemirror_mode": {
    "name": "ipython",
    "version": 3
   },
   "file_extension": ".py",
   "mimetype": "text/x-python",
   "name": "python",
   "nbconvert_exporter": "python",
   "pygments_lexer": "ipython3",
   "version": "3.6.5"
  }
 },
 "nbformat": 4,
 "nbformat_minor": 2
}
